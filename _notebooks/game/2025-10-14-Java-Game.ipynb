{
 "cells": [
  {
   "cell_type": "code",
   "execution_count": 1,
   "id": "bb09439c",
   "metadata": {
    "vscode": {
     "languageId": "java"
    }
   },
   "outputs": [
    {
     "ename": "CompilationException",
     "evalue": "",
     "output_type": "error",
     "traceback": [
      "\u001b[1m\u001b[30m|   \u001b[1m\u001b[30m\u001b[0m\u001b[1m\u001b[30m\u001b[41m\u001b[0m\u001b[1m\u001b[30mimport org.lwjgl.*;\u001b[0m",
      "\u001b[1m\u001b[31mpackage org.lwjgl does not exist\u001b[0m",
      ""
     ]
    }
   ],
   "source": [
    "import org.lwjgl.*;\n",
    "import org.lwjgl.glfw.*;\n",
    "import org.lwjgl.opengl.*;\n",
    "import org.lwjgl.system.*;\n",
    "\n",
    "import java.nio.*;\n",
    "\n",
    "import static org.lwjgl.glfw.GLFW.*;\n",
    "import static org.lwjgl.opengl.GL11.*;\n",
    "import static org.lwjgl.system.MemoryUtil.*;\n",
    "\n",
    "public class Main {\n",
    "    private long window;\n",
    "\n",
    "    public void run() {\n",
    "        init();\n",
    "        loop();\n",
    "        glfwDestroyWindow(window);\n",
    "        glfwTerminate();\n",
    "    }\n",
    "\n",
    "    private void init() {\n",
    "        if (!glfwInit())\n",
    "            throw new IllegalStateException(\"Unable to initialize GLFW\");\n",
    "\n",
    "        glfwWindowHint(GLFW_VISIBLE, GLFW_FALSE);\n",
    "        window = glfwCreateWindow(800, 600, \"My Game\", NULL, NULL);\n",
    "        if (window == NULL)\n",
    "            throw new RuntimeException(\"Failed to create GLFW window\");\n",
    "\n",
    "        glfwMakeContextCurrent(window);\n",
    "        GL.createCapabilities();\n",
    "\n",
    "        glfwSwapInterval(1); // Enable vsync\n",
    "        glfwShowWindow(window);\n",
    "    }\n",
    "\n",
    "    private void loop() {\n",
    "        while (!glfwWindowShouldClose(window)) {\n",
    "            glClear(GL_COLOR_BUFFER_BIT | GL_DEPTH_BUFFER_BIT);\n",
    "\n",
    "            // draw something here (this is where your GLSL code runs)\n",
    "\n",
    "            glfwSwapBuffers(window);\n",
    "            glfwPollEvents();\n",
    "        }\n",
    "    }\n",
    "\n",
    "    public static void main(String[] args) {\n",
    "        new Main().run();\n",
    "    }\n",
    "}\n"
   ]
  }
 ],
 "metadata": {
  "kernelspec": {
   "display_name": "java (JJava/j!)",
   "language": "java",
   "name": "jbang-jjava"
  },
  "language_info": {
   "codemirror_mode": "java",
   "file_extension": ".jshell",
   "mimetype": "text/x-java-source",
   "name": "Java",
   "pygments_lexer": "java",
   "version": "17.0.16+8-Ubuntu-0ubuntu124.04.1"
  }
 },
 "nbformat": 4,
 "nbformat_minor": 5
}
