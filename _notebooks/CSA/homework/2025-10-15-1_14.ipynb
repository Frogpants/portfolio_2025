{
 "cells": [
  {
   "cell_type": "markdown",
   "id": "e9ed50c6",
   "metadata": {},
   "source": [
    "## Answers Questioned\n",
    "\n",
    "### Question 1: Why does changing `b` not affect `a`, but changing `array2` affects `array1`?\n",
    "\n",
    "`a` and `b` are **primitive types**.\n",
    "When you assign `b = a;`, the value `10` is copied.\n",
    "Changing `b` later does not affect `a` because they are stored separately.\n",
    "\n",
    "`array1` and `array2` are **references** to the same array in the heap.\n",
    "When `array2[0] = 99;` runs, both variables point to the same memory.\n",
    "So, changing one changes the other.\n",
    "\n",
    "---\n",
    "\n",
    "### Question 2: Describe what’s on the stack vs. the heap for this code\n",
    "\n",
    "**Stack:**\n",
    "\n",
    "```\n",
    "a = 10\n",
    "b = 20\n",
    "array1 → 0x001\n",
    "array2 → 0x001\n",
    "```\n",
    "\n",
    "**Heap:**\n",
    "\n",
    "```\n",
    "0x001 → [99, 2, 3]\n",
    "```\n",
    "\n",
    "The **stack** stores variables and references.\n",
    "The **heap** stores the actual array.\n",
    "Both `array1` and `array2` point to the same array in the heap."
   ]
  },
  {
   "cell_type": "markdown",
   "id": "1ca833c3",
   "metadata": {},
   "source": [
    "### Question 1: After `haveBirthday(john)` is called, what is John’s age? Why?\n",
    "\n",
    "After `haveBirthday(john)` runs, **John’s age is 21**.\n",
    "The method changes the value of `p.age`, and since `p` refers to the same `Person` object as `john`, the change affects that object directly.\n",
    "In Java, **object references are passed by value**, but the **value is a reference**, so the method can modify the object’s fields.\n",
    "\n",
    "---\n",
    "\n",
    "### Question 2: After `reassignPerson(john)` is called, what is John’s name and age? Why?\n",
    "\n",
    "After `reassignPerson(john)`, **John’s name is still “John”** and **his age is still 21**.\n",
    "Inside the method, `p` is reassigned to a new `Person` object, but this does **not** affect `john` outside the method.\n",
    "The reassignment only changes what the local variable `p` points to, not the original `john` reference.\n",
    "\n",
    "---\n",
    "\n",
    "### Question 3: Explain the difference between modifying an object’s contents vs. reassigning a reference.\n",
    "\n",
    "**Modifying an object’s contents** means changing the data inside the same object (like updating `p.age`).\n",
    "Both references to that object will see the change.\n",
    "\n",
    "**Reassigning a reference** means making the variable point to a completely new object.\n",
    "This only changes the reference locally and does not affect other variables pointing to the original object.\n"
   ]
  },
  {
   "cell_type": "markdown",
   "id": "b24c8385",
   "metadata": {},
   "source": [
    "## Homework Hack 1"
   ]
  },
  {
   "cell_type": "code",
   "execution_count": 4,
   "id": "28b39907",
   "metadata": {
    "vscode": {
     "languageId": "java"
    }
   },
   "outputs": [
    {
     "name": "stdout",
     "output_type": "stream",
     "text": [
      "Car 1\n",
      "Model: Toyota\n",
      "Year: 2020\n",
      "\n",
      "Car 2\n",
      "Model: Honda\n",
      "Year: 2018\n"
     ]
    }
   ],
   "source": [
    "public class ObjectCreation {\n",
    "    public static void main(String[] args) {\n",
    "        Car car1 = new Car(\"Toyota\", 2020);\n",
    "        Car car2 = new Car(\"Honda\", 2018);\n",
    "\n",
    "        System.out.println(\"Car 1\");\n",
    "        car1.fetchInfo();\n",
    "        System.out.println(\"\");\n",
    "        System.out.println(\"Car 2\");\n",
    "        car2.fetchInfo();\n",
    "    }\n",
    "}\n",
    "\n",
    "class Car {\n",
    "    public String model;\n",
    "    public int year;\n",
    "    \n",
    "    Car(String model, int year) {\n",
    "        this.model = model;\n",
    "        this.year = year;\n",
    "    }\n",
    "\n",
    "    public void fetchInfo() {\n",
    "        System.out.println(\"Model: \" + this.model);\n",
    "        System.out.println(\"Year: \" + this.year);\n",
    "    }\n",
    "}\n",
    "\n",
    "ObjectCreation.main(null);"
   ]
  },
  {
   "cell_type": "markdown",
   "id": "364caf1c",
   "metadata": {},
   "source": [
    "## Homework Hack 2"
   ]
  },
  {
   "cell_type": "code",
   "execution_count": 6,
   "id": "0ad66e68",
   "metadata": {
    "vscode": {
     "languageId": "java"
    }
   },
   "outputs": [
    {
     "name": "stdout",
     "output_type": "stream",
     "text": [
      "Book 1\n",
      "Title: Carl goes to school\n",
      "Pages: 16\n",
      "\n",
      "Book 2\n",
      "Title: Carl goes to school\n",
      "Pages: 256\n"
     ]
    }
   ],
   "source": [
    "public class HeapVsStack {\n",
    "    public static void main(String[] args) {\n",
    "        int pages = 256;\n",
    "\n",
    "        int copiedPages = pages;\n",
    "\n",
    "        Book book1 = new Book(\"Marvin's Miraculous Mechanical Museum\");\n",
    "\n",
    "        Book book2 = book1;\n",
    "\n",
    "        pages = 16;\n",
    "\n",
    "        book1.title = \"Carl goes to school\";\n",
    "\n",
    "        System.out.println(\"Book 1\");\n",
    "        System.out.println(\"Title: \" + book1.title);\n",
    "        System.out.println(\"Pages: \" + pages);\n",
    "\n",
    "        System.out.println(\"\");\n",
    "\n",
    "        System.out.println(\"Book 2\");\n",
    "        System.out.println(\"Title: \" + book2.title);\n",
    "        System.out.println(\"Pages: \" + copiedPages);\n",
    "    }\n",
    "}\n",
    "\n",
    "class Book {\n",
    "    public String title;\n",
    "\n",
    "    Book(String title) {\n",
    "        this.title = title;\n",
    "    }\n",
    "\n",
    "    public void fetchTitle() {\n",
    "        System.out.println(\"Current Book Title: \" + this.title);\n",
    "    }\n",
    "}\n",
    "\n",
    "HeapVsStack.main(null);"
   ]
  }
 ],
 "metadata": {
  "kernelspec": {
   "display_name": "java (JJava/j!)",
   "language": "java",
   "name": "jbang-jjava"
  },
  "language_info": {
   "codemirror_mode": "java",
   "file_extension": ".jshell",
   "mimetype": "text/x-java-source",
   "name": "Java",
   "pygments_lexer": "java",
   "version": "17.0.16+8-Ubuntu-0ubuntu124.04.1"
  }
 },
 "nbformat": 4,
 "nbformat_minor": 5
}
