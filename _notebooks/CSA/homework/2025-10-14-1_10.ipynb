{
 "cells": [
  {
   "cell_type": "markdown",
   "id": "d5b026cd",
   "metadata": {},
   "source": [
    "---\n",
    "layout: post\n",
    "title: Lesson 1.10 Homework\n",
    "---"
   ]
  },
  {
   "cell_type": "markdown",
   "id": "a6fbced5",
   "metadata": {},
   "source": [
    "# Homework Hack"
   ]
  },
  {
   "cell_type": "code",
   "execution_count": 6,
   "id": "173bbbda",
   "metadata": {
    "vscode": {
     "languageId": "java"
    }
   },
   "outputs": [
    {
     "name": "stdout",
     "output_type": "stream",
     "text": [
      "Carl attacks Ultimate X925-83 for 500.0 damage!\n",
      "Ultimate X925-83 attacks Carl for 6.0 damage!\n",
      "Carl - Health: 994 | Power: 500 | Cooldown: 0\n",
      "Ultimate X925-83 - Health: -495 | Power: 1 | Cooldown: 0\n",
      "Ultimate X925-83 has been defeated!\n",
      "Carl Wins!\n",
      "Fight Duration: 1.0 turns\n"
     ]
    }
   ],
   "source": [
    "import java.lang.Math;\n",
    "\n",
    "public static int randInt(int a, int b) {\n",
    "    return (int)(Math.random() * (b - a + 1)) + a;\n",
    "}\n",
    "\n",
    "class Droid {\n",
    "    public String name;\n",
    "    public int health;\n",
    "    public int power;\n",
    "    private int cooldown;\n",
    "\n",
    "    public Droid(String name, int health, int power) {\n",
    "        this.name = name;\n",
    "        this.health = health;\n",
    "        this.power = power;\n",
    "        this.cooldown = 100;\n",
    "    }\n",
    "\n",
    "    public void attack(Droid opponent) {\n",
    "        double rand = randInt(0, 100) / 100;\n",
    "\n",
    "        if (this.cooldown >= 100 * rand) {\n",
    "            double dmg = this.power + (5 * rand);\n",
    "            opponent.health -= dmg;\n",
    "            this.cooldown = 0;\n",
    "            System.out.println(this.name + \" attacks \" + opponent.name + \" for \" + dmg + \" damage!\");\n",
    "        } else {\n",
    "            System.out.println(this.name + \" was unable to attack!\");\n",
    "        }\n",
    "    }\n",
    "\n",
    "    public void printStatus() {\n",
    "        System.out.println(this.name + \" - Health: \" + this.health + \" | Power: \" + this.power + \" | Cooldown: \" + this.cooldown);\n",
    "    }\n",
    "\n",
    "    public void deathCheck() {\n",
    "        if (this.health <= 0) {\n",
    "            System.out.println(this.name + \" has been defeated!\");\n",
    "        }\n",
    "    }\n",
    "}\n",
    "\n",
    "Droid droid1 = new Droid(\"Carl\", 1000, 500);\n",
    "Droid droid2 = new Droid(\"Ultimate X925-83\", 5, 1);\n",
    "\n",
    "double fightDuration = 0;\n",
    "while (droid1.health > 0 && droid2.health > 0) {\n",
    "    droid1.attack(droid2);\n",
    "    droid2.attack(droid1);\n",
    "    droid1.printStatus();\n",
    "    droid2.printStatus();\n",
    "    droid1.deathCheck();\n",
    "    droid2.deathCheck();\n",
    "    fightDuration++;\n",
    "}\n",
    "if (droid1.health <= 0)  {\n",
    "    System.out.println(droid2.name + \" Wins!\");\n",
    "} else {\n",
    "    System.out.println(droid1.name + \" Wins!\");\n",
    "}\n",
    "System.out.println(\"Fight Duration: \" + fightDuration + \" turns\");"
   ]
  }
 ],
 "metadata": {
  "kernelspec": {
   "display_name": "java (JJava/j!)",
   "language": "java",
   "name": "jbang-jjava"
  },
  "language_info": {
   "codemirror_mode": "java",
   "file_extension": ".jshell",
   "mimetype": "text/x-java-source",
   "name": "Java",
   "pygments_lexer": "java",
   "version": "17.0.16+8-Ubuntu-0ubuntu124.04.1"
  }
 },
 "nbformat": 4,
 "nbformat_minor": 5
}
