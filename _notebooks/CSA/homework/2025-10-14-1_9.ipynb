{
 "cells": [
  {
   "cell_type": "markdown",
   "id": "3d1e3298",
   "metadata": {},
   "source": [
    "---\n",
    "layout: post\n",
    "title: Lesson 1.9 Homework\n",
    "---"
   ]
  },
  {
   "cell_type": "markdown",
   "id": "ed39b30f",
   "metadata": {},
   "source": [
    "# FRQ Work"
   ]
  },
  {
   "cell_type": "code",
   "execution_count": 1,
   "id": "cd7359e2",
   "metadata": {
    "vscode": {
     "languageId": "java"
    }
   },
   "outputs": [
    {
     "name": "stdout",
     "output_type": "stream",
     "text": [
      "15\n",
      "28.274333882308138\n",
      "12\n",
      "45/50\n",
      "92.4%\n"
     ]
    }
   ],
   "source": [
    "public class FrqTemplates {\n",
    "    // FRQ 1: Sum all integers from start to end (inclusive)\n",
    "    public static int sumRange(int start, int end) {\n",
    "        if (start > end) return 0;\n",
    "            int sum = 0;\n",
    "        for (int n = start; n <= end; n++) {\n",
    "            sum += n;\n",
    "        }\n",
    "        return sum;\n",
    "    }\n",
    "\n",
    "\n",
    "    // FRQ 2: Overload area for circle vs. rectangle\n",
    "    public static double area(double radius) {\n",
    "        return Math.PI * radius * radius;\n",
    "    }\n",
    "    public static int area(int width, int height) {\n",
    "        return width * height;\n",
    "    }\n",
    "\n",
    "\n",
    "    // FRQ 3: Overload formatScore for fraction vs. percent\n",
    "    public static String formatScore(int earned, int total) {\n",
    "        return earned + \"/\" + total;\n",
    "    }\n",
    "    public static String formatScore(double percent) {\n",
    "        return String.format(\"%.1f%%\", percent);\n",
    "    }\n",
    "\n",
    "\n",
    "    public static void main(String[] args) {\n",
    "        System.out.println(sumRange(1, 5)); // 15\n",
    "        System.out.println(area(3.0)); // ~28.27\n",
    "        System.out.println(area(3, 4)); // 12\n",
    "        System.out.println(formatScore(45, 50)); // 45/50\n",
    "        System.out.println(formatScore(92.35)); // 92.4%\n",
    "    }\n",
    "}\n",
    "\n",
    "FrqTemplates.main(null);"
   ]
  }
 ],
 "metadata": {
  "kernelspec": {
   "display_name": "java (JJava/j!)",
   "language": "java",
   "name": "jbang-jjava"
  },
  "language_info": {
   "codemirror_mode": "java",
   "file_extension": ".jshell",
   "mimetype": "text/x-java-source",
   "name": "Java",
   "pygments_lexer": "java",
   "version": "17.0.16+8-Ubuntu-0ubuntu124.04.1"
  }
 },
 "nbformat": 4,
 "nbformat_minor": 5
}
