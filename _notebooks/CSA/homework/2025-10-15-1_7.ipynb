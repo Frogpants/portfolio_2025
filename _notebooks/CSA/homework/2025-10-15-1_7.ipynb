{
 "cells": [
  {
   "cell_type": "markdown",
   "id": "662b485a",
   "metadata": {},
   "source": [
    "---\n",
    "layout: post\n",
    "title: Lesson 1.7 Homework\n",
    "---"
   ]
  },
  {
   "cell_type": "markdown",
   "id": "2ee4673c",
   "metadata": {},
   "source": [
    "## Popcorn Hack 1"
   ]
  },
  {
   "cell_type": "code",
   "execution_count": 8,
   "id": "bfeb15b0",
   "metadata": {
    "vscode": {
     "languageId": "java"
    }
   },
   "outputs": [
    {
     "name": "stdout",
     "output_type": "stream",
     "text": [
      "Amount of colors: 3\n"
     ]
    }
   ],
   "source": [
    "import java.util.ArrayList;\n",
    "import java.lang.Math;\n",
    "\n",
    "public class PopcornHack1 {\n",
    "    public static void main(String[] args) {\n",
    "        double power = Math.pow(3, 4);\n",
    "\n",
    "        double root = Math.sqrt(64);\n",
    "\n",
    "        ArrayList<String> lst = new ArrayList<>();\n",
    "        \n",
    "        lst.add(\"red\");\n",
    "        lst.add(\"green\");\n",
    "        lst.add(\"blue\");\n",
    "        \n",
    "        System.out.println(\"Amount of colors: \" + lst.size());\n",
    "    }\n",
    "}\n",
    "\n",
    "PopcornHack1.main(null);"
   ]
  },
  {
   "cell_type": "markdown",
   "id": "d9149836",
   "metadata": {},
   "source": [
    "## Popcorn Hack 2"
   ]
  },
  {
   "cell_type": "code",
   "execution_count": null,
   "id": "3a25120f",
   "metadata": {
    "vscode": {
     "languageId": "java"
    }
   },
   "outputs": [
    {
     "name": "stdout",
     "output_type": "stream",
     "text": [
      "Title: Good & Evil\n",
      "Author: Tally Hall\n",
      "Pages: 14\n",
      "This book is not long.\n"
     ]
    }
   ],
   "source": [
    "public class Book {\n",
    "    private String title;\n",
    "    private String author;\n",
    "    private int pages;\n",
    "\n",
    "    Book(String title, String author, int pages) {\n",
    "        this.title = title;\n",
    "        this.author = author;\n",
    "        this.pages = pages;\n",
    "    }\n",
    "\n",
    "    public void displayInfo() {\n",
    "        System.out.println(\"Title: \" + this.title);\n",
    "        System.out.println(\"Author: \" + this.author);\n",
    "        System.out.println(\"Pages: \" + this.pages);\n",
    "    }\n",
    "\n",
    "    public boolean isLong() {\n",
    "        if (this.pages >= 300) {\n",
    "            return true;\n",
    "        }\n",
    "        else {\n",
    "            return false;\n",
    "        }\n",
    "    }\n",
    "}\n",
    "\n",
    "Book book = new Book(\"Good & Evil\", \"Tally Hall\", 14);\n",
    "\n",
    "book.displayInfo();\n",
    "\n",
    "if (book.isLong()) {\n",
    "    System.out.println(\"This book is very long.\");\n",
    "}\n",
    "else {\n",
    "    System.out.println(\"This book is not long.\");\n",
    "}"
   ]
  },
  {
   "cell_type": "markdown",
   "id": "e96e1765",
   "metadata": {},
   "source": [
    "## Homework Hack"
   ]
  },
  {
   "cell_type": "code",
   "execution_count": 29,
   "id": "958faa57",
   "metadata": {
    "vscode": {
     "languageId": "java"
    }
   },
   "outputs": [
    {
     "name": "stdout",
     "output_type": "stream",
     "text": [
      "New Phone Initialized\n",
      "\n",
      "\n",
      "Add Sandra to contacts\n",
      "\n",
      "Add Carl to contacts\n",
      "\n",
      "Add Mr. to contacts\n",
      "\n",
      "Contacts:\n",
      "Sandra\n",
      "Carl\n",
      "Mr.\n",
      "\n",
      "Used Phone for 10 minute(s) and lost 9% of Battery\n",
      "\n",
      "Grabbed Phone Information\n",
      "\n",
      "Brand: Android\n",
      "Model: 74KA\n",
      "\n",
      "New Phone Initialized\n",
      "\n",
      "\n",
      "Add Bullock to contacts\n",
      "\n",
      "Add Smite to contacts\n",
      "\n",
      "Add  McCarsman to contacts\n",
      "\n",
      "Contacts:\n",
      "Sandra\n",
      "Carl\n",
      "Mr.\n",
      "Bullock\n",
      "Smite\n",
      " McCarsman\n",
      "\n",
      "Used Phone for 60 minute(s) and lost 35% of Battery\n",
      "\n",
      "Grabbed Phone Information\n",
      "\n",
      "Brand: Android\n",
      "Model: 74KA\n",
      "\n"
     ]
    }
   ],
   "source": [
    "import java.util.ArrayList;\n",
    "import java.lang.Math;\n",
    "\n",
    "class Phone {\n",
    "    private String brand;\n",
    "    private String model;\n",
    "    private double battery;\n",
    "    private ArrayList<String> contacts;\n",
    "\n",
    "    Phone(String brand, String model) {\n",
    "        this.brand = brand;\n",
    "        this.model = model;\n",
    "        this.battery = 100;\n",
    "        this.contacts = new ArrayList<>();\n",
    "\n",
    "        System.out.println(\"New Phone Initialized\");\n",
    "        System.out.println(\"\");\n",
    "        System.out.println(\"\");\n",
    "    }\n",
    "\n",
    "    public void displayInfo() {\n",
    "        System.out.println(\"Grabbed Phone Information\");\n",
    "\n",
    "        System.out.println(\"\");\n",
    "\n",
    "        System.out.println(\"Brand: \" + this.brand);\n",
    "        System.out.println(\"Model: \" + this.model);\n",
    "        System.out.println(\"\");\n",
    "    }\n",
    "\n",
    "    public void addContact(String person) {\n",
    "        System.out.println(\"Add \" + person + \" to contacts\");\n",
    "        System.out.println(\"\");\n",
    "\n",
    "        this.contacts.add(person);\n",
    "    }\n",
    "\n",
    "    public void showContacts() {\n",
    "        System.out.println(\"Contacts:\");\n",
    "\n",
    "        for (int i = 0; i <= this.contacts.size()-1; i++) {\n",
    "            System.out.println(this.contacts.get(i));\n",
    "        }\n",
    "\n",
    "        System.out.println(\"\");\n",
    "    }\n",
    "\n",
    "    public void usePhone(int minutes) {\n",
    "        double base = 100.0;\n",
    "        double usage = base * Math.pow(0.99, minutes);\n",
    "\n",
    "        double diff = battery - usage;\n",
    "\n",
    "        System.out.println(\"Used Phone for \" + minutes + \" minute(s) and lost \" + (int)diff + \"% of Battery\");\n",
    "\n",
    "        this.battery = usage;\n",
    "\n",
    "        System.out.println(\"\");\n",
    "    }\n",
    "}\n",
    "\n",
    "\n",
    "\n",
    "public class PhoneTest {\n",
    "    public static void main(String[] args) {\n",
    "        Phone phone1 = new Phone(\"Android\", \"74KA\");\n",
    "\n",
    "        phone1.addContact(\"Sandra\");\n",
    "        phone1.addContact(\"Carl\");\n",
    "        phone1.addContact(\"Mr.\");\n",
    "        phone1.showContacts();\n",
    "\n",
    "        phone1.usePhone(10);\n",
    "\n",
    "        phone1.displayInfo();\n",
    "\n",
    "        Phone phone2 = new Phone(\"Apple\", \"61M\");\n",
    "        \n",
    "        phone1.addContact(\"Bullock\");\n",
    "        phone1.addContact(\"Smite\");\n",
    "        phone1.addContact(\" McCarsman\");\n",
    "        phone1.showContacts();\n",
    "\n",
    "        phone1.usePhone(60);\n",
    "\n",
    "        phone1.displayInfo();\n",
    "        \n",
    "    }\n",
    "}\n",
    "\n",
    "PhoneTest.main(null);"
   ]
  }
 ],
 "metadata": {
  "kernelspec": {
   "display_name": "java (JJava/j!)",
   "language": "java",
   "name": "jbang-jjava"
  },
  "language_info": {
   "codemirror_mode": "java",
   "file_extension": ".jshell",
   "mimetype": "text/x-java-source",
   "name": "Java",
   "pygments_lexer": "java",
   "version": "17.0.16+8-Ubuntu-0ubuntu124.04.1"
  }
 },
 "nbformat": 4,
 "nbformat_minor": 5
}
