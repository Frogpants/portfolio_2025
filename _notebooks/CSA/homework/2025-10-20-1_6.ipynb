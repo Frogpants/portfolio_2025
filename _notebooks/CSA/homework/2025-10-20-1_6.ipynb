{
 "cells": [
  {
   "cell_type": "markdown",
   "id": "1b69bd17",
   "metadata": {},
   "source": [
    "---\n",
    "layout: post\n",
    "title: Lesson 1.6 Homework\n",
    "---"
   ]
  },
  {
   "cell_type": "markdown",
   "id": "cf355187",
   "metadata": {},
   "source": [
    "## Option B: "
   ]
  },
  {
   "cell_type": "code",
   "execution_count": 1,
   "id": "3a8ac4bc",
   "metadata": {
    "vscode": {
     "languageId": "java"
    }
   },
   "outputs": [],
   "source": [
    "public class BankAccountSimulation {\n",
    "\n",
    "    public static void main(String[] args) {\n",
    "        double balance = 5000.0;\n",
    "        int transactions = 0;\n",
    "        double monthlyFee = 10.0;\n",
    "        double interestRate = 0.02;\n",
    "\n",
    "        for (int month = 1; month <= 12; month++) {\n",
    "            System.out.println(\"Month \" + month + \":\");\n",
    "\n",
    "            balance += 3000;\n",
    "            transactions++;\n",
    "            System.out.println(\" + Salary added: $3000.00\");\n",
    "\n",
    "            balance -= 1200;\n",
    "            transactions++;\n",
    "            System.out.println(\" - Rent paid: $1200.00\");\n",
    "\n",
    "            balance -= monthlyFee;\n",
    "            transactions++;\n",
    "            System.out.println(\" - Monthly fee: $\" + monthlyFee);\n",
    "\n",
    "            balance *= (1 + interestRate);\n",
    "            System.out.printf(\" * Interest applied (%.0f%%): $%.2f%n\", interestRate * 100, balance);\n",
    "\n",
    "            System.out.printf(\"End of month balance: $%.2f%n\", balance);\n",
    "            System.out.println(\"----------------------------\");\n",
    "        }\n",
    "\n",
    "        double averageMonthlySpending = (12 * (1200 + monthlyFee));\n",
    "        averageMonthlySpending /= 12;\n",
    "        int tier = transactions % 5;\n",
    "\n",
    "        System.out.println(\"=== YEARLY SUMMARY ===\");\n",
    "        System.out.printf(\"Final Balance: $%.2f%n\", balance);\n",
    "        System.out.println(\"Total Transactions: \" + transactions);\n",
    "        System.out.printf(\"Average Monthly Spending: $%.2f%n\", averageMonthlySpending);\n",
    "        System.out.println(\"Account Tier (based on transactions): \" + tier);\n",
    "    }\n",
    "}"
   ]
  }
 ],
 "metadata": {
  "kernelspec": {
   "display_name": "java (JJava/j!)",
   "language": "java",
   "name": "jbang-jjava"
  },
  "language_info": {
   "codemirror_mode": "java",
   "file_extension": ".jshell",
   "mimetype": "text/x-java-source",
   "name": "Java",
   "pygments_lexer": "java",
   "version": "17.0.16+8-Ubuntu-0ubuntu124.04.1"
  }
 },
 "nbformat": 4,
 "nbformat_minor": 5
}
