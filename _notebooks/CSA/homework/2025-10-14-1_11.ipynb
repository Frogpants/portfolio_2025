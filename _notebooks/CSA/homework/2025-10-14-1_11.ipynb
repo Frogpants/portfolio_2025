{
 "cells": [
  {
   "cell_type": "markdown",
   "id": "0c8e5b50",
   "metadata": {},
   "source": [
    "---\n",
    "layout: post\n",
    "title: Lesson 1.11 Homework\n",
    "---"
   ]
  },
  {
   "cell_type": "markdown",
   "id": "fd191d9d",
   "metadata": {},
   "source": [
    "## Popcorn Hack 1"
   ]
  },
  {
   "cell_type": "code",
   "execution_count": 5,
   "id": "ccd5b550",
   "metadata": {
    "vscode": {
     "languageId": "java"
    }
   },
   "outputs": [
    {
     "name": "stdout",
     "output_type": "stream",
     "text": [
      "Level: 5\n",
      "Base Power: 100\n",
      "Final Power: 248.832\n"
     ]
    }
   ],
   "source": [
    "import java.lang.Math;\n",
    "\n",
    "// Create Player class to run code\n",
    "class Player {\n",
    "    private int level;\n",
    "\n",
    "    // Define player level\n",
    "    public Player(int level) {\n",
    "        this.level = level;\n",
    "    }\n",
    "\n",
    "    // Grab player level\n",
    "    public int getLevel() {\n",
    "        return level;\n",
    "    }\n",
    "}\n",
    "\n",
    "// Define player object\n",
    "Player player = new Player(5);\n",
    "\n",
    "// Define base power and level\n",
    "int base = 100;\n",
    "int currentLevel = player.getLevel();\n",
    "\n",
    "// Calculate power level\n",
    "float powerLevel = (float)(base * Math.pow(1.2, currentLevel));\n",
    "\n",
    "// Print results\n",
    "System.out.println(\"Level: \" + currentLevel);\n",
    "System.out.println(\"Base Power: \" + base);\n",
    "System.out.println(\"Final Power: \" + powerLevel);"
   ]
  },
  {
   "cell_type": "markdown",
   "id": "34c6f14b",
   "metadata": {},
   "source": [
    "## Popcorn Hack 2"
   ]
  },
  {
   "cell_type": "code",
   "execution_count": 1,
   "id": "56b3e1ea",
   "metadata": {
    "vscode": {
     "languageId": "java"
    }
   },
   "outputs": [
    {
     "name": "stdout",
     "output_type": "stream",
     "text": [
      "Loot Drop!\n",
      "Rarity: 15\n",
      "Collected New Item!\n",
      "Gold: 10\n"
     ]
    }
   ],
   "source": [
    "import java.lang.Math;\n",
    "\n",
    "// Function to generate random integer between a and b\n",
    "public int randInt(int a, int b) {\n",
    "    return (int)(Math.random() * (b - a + 1)) + a;\n",
    "}\n",
    "\n",
    "// Generate random rarity and setup gold\n",
    "int rarity = randInt(1, 100);\n",
    "int gold = 0;\n",
    "\n",
    "// Determine gold based on rarity\n",
    "if (rarity >= 1 && rarity <= 60) {\n",
    "    gold = randInt(10, 30);\n",
    "}\n",
    "else if (rarity >= 61 && rarity <= 85) {\n",
    "    gold = randInt(31, 70);\n",
    "}\n",
    "else if (rarity >= 86 && rarity <= 100) {\n",
    "    gold = randInt(71, 100);\n",
    "}\n",
    "\n",
    "// Print results\n",
    "System.out.println(\"Loot Drop!\");\n",
    "System.out.println(\"Rarity: \" + rarity);\n",
    "System.out.println(\"Collected New Item!\");\n",
    "System.out.println(\"Gold: \" + gold);"
   ]
  }
 ],
 "metadata": {
  "kernelspec": {
   "display_name": "java (JJava/j!)",
   "language": "java",
   "name": "jbang-jjava"
  },
  "language_info": {
   "codemirror_mode": "java",
   "file_extension": ".jshell",
   "mimetype": "text/x-java-source",
   "name": "Java",
   "pygments_lexer": "java",
   "version": "17.0.16+8-Ubuntu-0ubuntu124.04.1"
  }
 },
 "nbformat": 4,
 "nbformat_minor": 5
}
