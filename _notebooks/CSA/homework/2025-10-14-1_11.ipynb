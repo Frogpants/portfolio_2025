{
 "cells": [
  {
   "cell_type": "markdown",
   "id": "0c8e5b50",
   "metadata": {},
   "source": [
    "---\n",
    "layout: post\n",
    "title: Lesson 1.11 Homework\n",
    "---"
   ]
  },
  {
   "cell_type": "markdown",
   "id": "fd191d9d",
   "metadata": {},
   "source": [
    "## Popcorn Hack 1"
   ]
  },
  {
   "cell_type": "code",
   "execution_count": 5,
   "id": "ccd5b550",
   "metadata": {
    "vscode": {
     "languageId": "java"
    }
   },
   "outputs": [
    {
     "name": "stdout",
     "output_type": "stream",
     "text": [
      "Level: 5\n",
      "Base Power: 100\n",
      "Final Power: 248.832\n"
     ]
    }
   ],
   "source": [
    "import java.lang.Math;\n",
    "\n",
    "// Create Player class to run code\n",
    "class Player {\n",
    "    private int level;\n",
    "\n",
    "    // Define player level\n",
    "    public Player(int level) {\n",
    "        this.level = level;\n",
    "    }\n",
    "\n",
    "    // Grab player level\n",
    "    public int getLevel() {\n",
    "        return level;\n",
    "    }\n",
    "}\n",
    "\n",
    "// Define player object\n",
    "Player player = new Player(5);\n",
    "\n",
    "// Define base power and level\n",
    "int base = 100;\n",
    "int currentLevel = player.getLevel();\n",
    "\n",
    "// Calculate power level\n",
    "float powerLevel = (float)(base * Math.pow(1.2, currentLevel));\n",
    "\n",
    "// Print results\n",
    "System.out.println(\"Level: \" + currentLevel);\n",
    "System.out.println(\"Base Power: \" + base);\n",
    "System.out.println(\"Final Power: \" + powerLevel);"
   ]
  },
  {
   "cell_type": "markdown",
   "id": "34c6f14b",
   "metadata": {},
   "source": [
    "## Popcorn Hack 2"
   ]
  },
  {
   "cell_type": "code",
   "execution_count": 1,
   "id": "56b3e1ea",
   "metadata": {
    "vscode": {
     "languageId": "java"
    }
   },
   "outputs": [
    {
     "name": "stdout",
     "output_type": "stream",
     "text": [
      "Loot Drop!\n",
      "Rarity: 15\n",
      "Collected New Item!\n",
      "Gold: 10\n"
     ]
    }
   ],
   "source": [
    "import java.lang.Math;\n",
    "\n",
    "// Function to generate random integer between a and b\n",
    "public int randInt(int a, int b) {\n",
    "    return (int)(Math.random() * (b - a + 1)) + a;\n",
    "}\n",
    "\n",
    "// Generate random rarity and setup gold\n",
    "int rarity = randInt(1, 100);\n",
    "int gold = 0;\n",
    "\n",
    "// Determine gold based on rarity\n",
    "if (rarity >= 1 && rarity <= 60) {\n",
    "    gold = randInt(10, 30);\n",
    "}\n",
    "else if (rarity >= 61 && rarity <= 85) {\n",
    "    gold = randInt(31, 70);\n",
    "}\n",
    "else if (rarity >= 86 && rarity <= 100) {\n",
    "    gold = randInt(71, 100);\n",
    "}\n",
    "\n",
    "// Print results\n",
    "System.out.println(\"Loot Drop!\");\n",
    "System.out.println(\"Rarity: \" + rarity);\n",
    "System.out.println(\"Collected New Item!\");\n",
    "System.out.println(\"Gold: \" + gold);"
   ]
  },
  {
   "cell_type": "markdown",
   "id": "1bfb1731",
   "metadata": {},
   "source": [
    "# Hacks\n",
    "\n",
    "## Part A"
   ]
  },
  {
   "cell_type": "code",
   "execution_count": 10,
   "id": "a918cee6",
   "metadata": {
    "vscode": {
     "languageId": "java"
    }
   },
   "outputs": [
    {
     "name": "stdout",
     "output_type": "stream",
     "text": [
      "Player Health: 109\n",
      "Enemy Health: 152\n",
      "Health Difference: 43\n"
     ]
    }
   ],
   "source": [
    "import java.lang.Math;\n",
    "\n",
    "public static int healthDifference(int playerHealth, int enemyHealth) {\n",
    "    return Math.abs(playerHealth - enemyHealth);\n",
    "}\n",
    "\n",
    "public int randInt(int a, int b) {\n",
    "    return (int)(Math.random() * (b - a + 1)) + a;\n",
    "}\n",
    "\n",
    "int playerHealth = randInt(10, 200);\n",
    "int enemyHealth = randInt(10, 200);\n",
    "int healthDiff = healthDifference(playerHealth, enemyHealth);\n",
    "System.out.println(\"Player Health: \" + playerHealth);\n",
    "System.out.println(\"Enemy Health: \" + enemyHealth);\n",
    "System.out.println(\"Health Difference: \" + healthDiff);"
   ]
  },
  {
   "cell_type": "markdown",
   "id": "2efa97df",
   "metadata": {},
   "source": [
    "## Part B"
   ]
  },
  {
   "cell_type": "code",
   "execution_count": 17,
   "id": "ef996105",
   "metadata": {
    "vscode": {
     "languageId": "java"
    }
   },
   "outputs": [
    {
     "name": "stdout",
     "output_type": "stream",
     "text": [
      "Base Damage: 43.0\n",
      "Power Level: 1.0\n",
      "Total Damage: 0.43\n"
     ]
    }
   ],
   "source": [
    "import java.lang.Math;\n",
    "\n",
    "public static double damageCalculator(double base, double powerLevel) {\n",
    "    return base * (powerLevel / 100);\n",
    "}\n",
    "\n",
    "public int randInt(int a, int b) {\n",
    "    return (int)(Math.random() * (b - a + 1)) + a;\n",
    "}\n",
    "\n",
    "double base = randInt(10, 50);\n",
    "double powerLevel = randInt(1, 5);\n",
    "double damage = damageCalculator(base, powerLevel);\n",
    "System.out.println(\"Base Damage: \" + base);\n",
    "System.out.println(\"Power Level: \" + powerLevel);\n",
    "System.out.println(\"Total Damage: \" + damage);"
   ]
  },
  {
   "cell_type": "markdown",
   "id": "a68f0bb0",
   "metadata": {},
   "source": [
    "## Part C"
   ]
  },
  {
   "cell_type": "code",
   "execution_count": 18,
   "id": "2eebf54f",
   "metadata": {
    "vscode": {
     "languageId": "java"
    }
   },
   "outputs": [
    {
     "name": "stdout",
     "output_type": "stream",
     "text": [
      "Point 1: (2, 10)\n",
      "Point 2: (4, 3)\n",
      "Distance: 7\n"
     ]
    }
   ],
   "source": [
    "import java.lang.Math;\n",
    "\n",
    "public static int findDistance(int x1, int y1, int x2, int y2) {\n",
    "    return (int)(Math.sqrt(Math.pow(x2 - x1, 2) + Math.pow(y2 - y1, 2)));\n",
    "}\n",
    "\n",
    "public static int randInt(int a, int b) {\n",
    "    return (int)(Math.random() * (b - a + 1)) + a;\n",
    "}\n",
    "\n",
    "int x1 = randInt(0, 10);\n",
    "int y1 = randInt(0, 10);\n",
    "int x2 = randInt(0, 10);\n",
    "int y2 = randInt(0, 10);\n",
    "int distance = findDistance(x1, y1, x2, y2);\n",
    "System.out.println(\"Point 1: (\" + x1 + \", \" + y1 + \")\");\n",
    "System.out.println(\"Point 2: (\" + x2 + \", \" + y2 + \")\");\n",
    "System.out.println(\"Distance: \" + distance);"
   ]
  },
  {
   "cell_type": "markdown",
   "id": "9c8ab433",
   "metadata": {},
   "source": [
    "## Part D"
   ]
  },
  {
   "cell_type": "code",
   "execution_count": 22,
   "id": "13f8f684",
   "metadata": {
    "vscode": {
     "languageId": "java"
    }
   },
   "outputs": [
    {
     "name": "stdout",
     "output_type": "stream",
     "text": [
      "Loot Found!\n",
      "Loot Value: 22\n"
     ]
    }
   ],
   "source": [
    "import java.lang.Math;\n",
    "\n",
    "public static int randomLoot(int a, int b) {\n",
    "    return (int)(Math.random() * (b - a + 1)) + a;\n",
    "}\n",
    "\n",
    "int loot = randomLoot(1, 100);\n",
    "System.out.println(\"Loot Found!\");\n",
    "System.out.println(\"Loot Value: \" + loot);"
   ]
  }
 ],
 "metadata": {
  "kernelspec": {
   "display_name": "java (JJava/j!)",
   "language": "java",
   "name": "jbang-jjava"
  },
  "language_info": {
   "codemirror_mode": "java",
   "file_extension": ".jshell",
   "mimetype": "text/x-java-source",
   "name": "Java",
   "pygments_lexer": "java",
   "version": "17.0.16+8-Ubuntu-0ubuntu124.04.1"
  }
 },
 "nbformat": 4,
 "nbformat_minor": 5
}
