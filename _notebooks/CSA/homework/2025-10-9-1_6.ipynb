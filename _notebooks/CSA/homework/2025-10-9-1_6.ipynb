{
 "cells": [
  {
   "cell_type": "markdown",
   "id": "1b69bd17",
   "metadata": {},
   "source": [
    "---\n",
    "layout: post\n",
    "title: Lesson 1.6 Homework\n",
    "---"
   ]
  },
  {
   "cell_type": "markdown",
   "id": "cf355187",
   "metadata": {},
   "source": [
    "## Option B: "
   ]
  },
  {
   "cell_type": "code",
   "execution_count": 1,
   "id": "3a8ac4bc",
   "metadata": {
    "vscode": {
     "languageId": "java"
    }
   },
   "outputs": [],
   "source": [
    "public class BankAccountSimulation {\n",
    "\n",
    "    public static void main(String[] args) {\n",
    "        double balance = 5000.0;\n",
    "        int transactions = 0;\n",
    "        double monthlyFee = 10.0;\n",
    "        double interestRate = 0.02;\n",
    "\n",
    "        for (int month = 1; month <= 12; month++) {\n",
    "            System.out.println(\"Month \" + month + \":\");\n",
    "\n",
    "            balance += 3000;\n",
    "            transactions++;\n",
    "            System.out.println(\" + Salary added: $3000.00\");\n",
    "\n",
    "            balance -= 1200;\n",
    "            transactions++;\n",
    "            System.out.println(\" - Rent paid: $1200.00\");\n",
    "\n",
    "            balance -= monthlyFee;\n",
    "            transactions++;\n",
    "            System.out.println(\" - Monthly fee: $\" + monthlyFee);\n",
    "\n",
    "            balance *= (1 + interestRate);\n",
    "            System.out.printf(\" * Interest applied (%.0f%%): $%.2f%n\", interestRate * 100, balance);\n",
    "\n",
    "            System.out.printf(\"End of month balance: $%.2f%n\", balance);\n",
    "            System.out.println(\"----------------------------\");\n",
    "        }\n",
    "\n",
    "        double averageMonthlySpending = (12 * (1200 + monthlyFee));\n",
    "        averageMonthlySpending /= 12;\n",
    "        int tier = transactions % 5;\n",
    "\n",
    "        System.out.println(\"=== YEARLY SUMMARY ===\");\n",
    "        System.out.printf(\"Final Balance: $%.2f%n\", balance);\n",
    "        System.out.println(\"Total Transactions: \" + transactions);\n",
    "        System.out.printf(\"Average Monthly Spending: $%.2f%n\", averageMonthlySpending);\n",
    "        System.out.println(\"Account Tier (based on transactions): \" + tier);\n",
    "    }\n",
    "}"
   ]
  },
  {
   "cell_type": "markdown",
   "id": "4317c43e",
   "metadata": {},
   "source": [
    "# Popcorn Hack 1"
   ]
  },
  {
   "cell_type": "code",
   "execution_count": 1,
   "id": "46fddd75",
   "metadata": {
    "vscode": {
     "languageId": "java"
    }
   },
   "outputs": [
    {
     "name": "stdout",
     "output_type": "stream",
     "text": [
      "0\n"
     ]
    }
   ],
   "source": [
    "public class Example {\n",
    "    public static void main(String[] args) {\n",
    "        int score = 100;\n",
    "        double average = 85.5;\n",
    "\n",
    "\n",
    "        score += 50; // score = 150\n",
    "        score -= 25; // score = 125\n",
    "        score *= 2; // score = 250\n",
    "        score /= 5; // score = 50 (integer division)\n",
    "        score %= 15; // score = 5 (50 % 15)\n",
    "\n",
    "\n",
    "        average += 4.5; // average = 90.0\n",
    "\n",
    "\n",
    "        int count = 0;\n",
    "        count++; // count = 1\n",
    "        count--; // count = 0\n",
    "\n",
    "\n",
    "        System.out.println(count);\n",
    "    }\n",
    "}\n",
    "\n",
    "Example.main(null);"
   ]
  },
  {
   "cell_type": "markdown",
   "id": "5643b407",
   "metadata": {},
   "source": [
    "# Popcorn Hack 2"
   ]
  },
  {
   "cell_type": "code",
   "execution_count": 2,
   "id": "ae91f94e",
   "metadata": {
    "vscode": {
     "languageId": "java"
    }
   },
   "outputs": [
    {
     "name": "stdout",
     "output_type": "stream",
     "text": [
      "Starting score: 100\n",
      "After wrong answer (-20): 80\n",
      "After power-up (*2): 160\n",
      "After dividing by 7 (remainder): 6\n",
      "After bonus (+5): 11\n",
      "=== FINAL SCORE: 11 ===\n"
     ]
    }
   ],
   "source": [
    "public class PopcornHack2 {\n",
    "    public static void main(String[] args) {\n",
    "        int score = 100; // Starting score\n",
    "        System.out.println(\"Starting score: \" + score);\n",
    "\n",
    "        // Deduct points for a wrong answer\n",
    "        score -= 20; // same as score = score - 20\n",
    "        System.out.println(\"After wrong answer (-20): \" + score);\n",
    "\n",
    "        // Double the score with a power-up\n",
    "        score *= 2; // same as score = score * 2\n",
    "        System.out.println(\"After power-up (*2): \" + score);\n",
    "\n",
    "        // Find remainder after dividing by 7\n",
    "        score %= 7; // same as score = score % 7\n",
    "        System.out.println(\"After dividing by 7 (remainder): \" + score);\n",
    "\n",
    "        // Bonus round: gain a few points\n",
    "        score += 5; // same as score = score + 5\n",
    "        System.out.println(\"After bonus (+5): \" + score);\n",
    "\n",
    "        // End of simulation\n",
    "        System.out.println(\"=== FINAL SCORE: \" + score + \" ===\");\n",
    "    }\n",
    "}\n",
    "\n",
    "PopcornHack2.main(null);"
   ]
  }
 ],
 "metadata": {
  "kernelspec": {
   "display_name": "java (JJava/j!)",
   "language": "java",
   "name": "jbang-jjava"
  },
  "language_info": {
   "codemirror_mode": "java",
   "file_extension": ".jshell",
   "mimetype": "text/x-java-source",
   "name": "Java",
   "pygments_lexer": "java",
   "version": "17.0.16+8-Ubuntu-0ubuntu124.04.1"
  }
 },
 "nbformat": 4,
 "nbformat_minor": 5
}
