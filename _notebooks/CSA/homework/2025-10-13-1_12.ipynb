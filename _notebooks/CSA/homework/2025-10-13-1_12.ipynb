{
 "cells": [
  {
   "cell_type": "markdown",
   "id": "54676c65",
   "metadata": {},
   "source": [
    "---\n",
    "layout: post\n",
    "title: Lesson 1.11 Homework\n",
    "---"
   ]
  },
  {
   "cell_type": "markdown",
   "id": "f978bb1f",
   "metadata": {},
   "source": [
    "## Popcorn Hack 1"
   ]
  },
  {
   "cell_type": "code",
   "execution_count": 2,
   "id": "f1d11c83",
   "metadata": {
    "vscode": {
     "languageId": "java"
    }
   },
   "outputs": [
    {
     "name": "stdout",
     "output_type": "stream",
     "text": [
      "Title: [Insert Genius Book Name], Pages: 256\n"
     ]
    }
   ],
   "source": [
    "class Book {\n",
    "    private String title;\n",
    "    private int pages;\n",
    "\n",
    "    public Book(String title, int pages) {\n",
    "        this.title = title;\n",
    "        this.pages = pages;\n",
    "    }\n",
    "\n",
    "    public void printInfo() {\n",
    "        System.out.println(\"Title: \" + title + \", Pages: \" + pages);\n",
    "    }\n",
    "}\n",
    "\n",
    "class MainPopcorn {\n",
    "    public static void main(String[] args) {\n",
    "        Book book = new Book(\"[Insert Genius Book Name]\", 256);\n",
    "        book.printInfo();\n",
    "    }\n",
    "}\n",
    "\n",
    "MainPopcorn.main(null);"
   ]
  },
  {
   "cell_type": "markdown",
   "id": "969b6ef0",
   "metadata": {},
   "source": [
    "## Quick Self Check\n",
    "\n",
    "**1.** A **class** is a blueprint that defines the properties and behaviors of objects, while an **object** is an instance created from that class.\n",
    "\n",
    "**2.** A **reference variable** stores the memory address (reference) of an object rather than the object itself.\n",
    "\n",
    "**3.** Every object has the **`toString()`** method because it is inherited from the `Object` class.\n"
   ]
  }
 ],
 "metadata": {
  "kernelspec": {
   "display_name": "java (JJava/j!)",
   "language": "java",
   "name": "jbang-jjava"
  },
  "language_info": {
   "codemirror_mode": "java",
   "file_extension": ".jshell",
   "mimetype": "text/x-java-source",
   "name": "Java",
   "pygments_lexer": "java",
   "version": "17.0.16+8-Ubuntu-0ubuntu124.04.1"
  }
 },
 "nbformat": 4,
 "nbformat_minor": 5
}
