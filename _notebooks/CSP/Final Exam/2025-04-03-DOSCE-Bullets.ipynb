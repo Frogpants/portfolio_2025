{
 "cells": [
  {
   "cell_type": "markdown",
   "metadata": {},
   "source": [
    "---\n",
    "toc: true\n",
    "comments: true\n",
    "layout: post\n",
    "title: DOSCE Bullets\n",
    "author: Spencer Lyons\n",
    "categories: [Python]\n",
    "---"
   ]
  },
  {
   "cell_type": "markdown",
   "metadata": {},
   "source": [
    "# DOSCE Bullets\n",
    "\n",
    "- **Profile Page Development**: Built the user profile page with Flask-RESTful, implementing CRUD operations for users to create, update, and delete profiles. This improved my understanding of API design and user data management.  \n",
    "- **Search Bar Recommendations**: Contributed to the recommendation system, aligning with the **New User** story by automatically suggesting items based on past searches and interactions. I learned how to dynamically adjust the recommendations for new users.  \n",
    "- **User Stories Implementation**: Focused on fulfilling both **New User** and **General User** stories by creating a recommendation system that adapts based on user behavior. This taught me how to build features that evolve with user preferences.  \n",
    "- **Database Management**: Improved database scripts (`db_init.py`, `db_backup.py`, `db_restore.py`) for better data handling and consistency, learning how to ensure efficient data management across the backend.  \n",
    "- **Full Stack Integration**: Worked on connecting the frontend and backend, ensuring smooth communication between profile data and recommendations. This reinforced the importance of full-stack development and real-time data handling.\n",
    "\n",
    "## CPT Breakdown  \n",
    "\n",
    "| Requirement                | How My Feature Fulfills the Requirement |\n",
    "|----------------------------|------------------------------------------|\n",
    "| **Input**                  | Users interact with items and perform searches, which triggers recommendation updates. |\n",
    "| **Use of List/Collection Type** | Tags stored in the database form lists used to recommend similar items. |\n",
    "| **Procedure**              | The recommendation script runs through item tags to match and suggest new items. |\n",
    "| **Algorithm**              | The system tracks tag interactions and weights them to recommend relevant items. |\n",
    "| **Output**                 | Users receive a dynamically updated list of recommended items based on past interactions. |"
   ]
  }
 ],
 "metadata": {
  "language_info": {
   "name": "python"
  }
 },
 "nbformat": 4,
 "nbformat_minor": 2
}
