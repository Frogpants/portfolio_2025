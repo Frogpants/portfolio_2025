{
 "cells": [
  {
   "cell_type": "markdown",
   "metadata": {},
   "source": [
    "---\n",
    "toc: true\n",
    "comments: true\n",
    "layout: post\n",
    "title: DOSCE Bullets\n",
    "author: Spencer Lyons\n",
    "nav: nav/final/blogs.html\n",
    "categories: [Python]\n",
    "---"
   ]
  },
  {
   "cell_type": "markdown",
   "metadata": {},
   "source": [
    "# DOSCE Bullets\n",
    "\n",
    "- **Profile Page Development**: Built the user profile page with Flask-RESTful, implementing CRUD operations for users to create, update, and delete profiles. This improved my understanding of API design and user data management.  \n",
    "- **Search Bar Recommendations**: Contributed to the recommendation system, aligning with the **New User** story by automatically suggesting items based on past searches and interactions. I learned how to dynamically adjust the recommendations for new users.  \n",
    "- **User Stories Implementation**: Focused on fulfilling both **New User** and **General User** stories by creating a recommendation system that adapts based on user behavior. This taught me how to build features that evolve with user preferences.  \n",
    "- **Database Management**: Improved database scripts (`db_init.py`, `db_backup.py`, `db_restore.py`) for better data handling and consistency, learning how to ensure efficient data management across the backend.  \n",
    "- **Full Stack Integration**: Worked on connecting the frontend and backend, ensuring smooth communication between profile data and recommendations. This reinforced the importance of full-stack development and real-time data handling.\n",
    "\n",
    "## CPT Breakdown   \n",
    "\n",
    "| Requirement                | How My Feature Fulfills the Requirement |\n",
    "|----------------------------|------------------------------------------|\n",
    "| **Input**                  | The API accepts `POST`, `GET`, `PUT`, and `DELETE` requests with JSON payloads that include `user_id`, `link`, `name`, and `theme`. |\n",
    "| **Use of List/Collection Type** | Profiles are stored in a database, and multiple profiles can be retrieved using the `GET /user_profiles` endpoint, which returns a collection of user profiles. |\n",
    "| **Procedure**              | The API handles CRUD operations for user profiles. It processes requests by creating, reading, updating, and deleting profiles in the database. |\n",
    "| **Algorithm**              | The system uses token authentication to authorize requests. Profile data is matched to user IDs, and actions (create, read, update, delete) are performed based on the provided `user_id`. |\n",
    "| **Output**                 | The API returns JSON responses for each operation, including the profile data after creation or updates, and messages on successful or failed operations. |\n"
   ]
  }
 ],
 "metadata": {
  "language_info": {
   "name": "python"
  }
 },
 "nbformat": 4,
 "nbformat_minor": 2
}
