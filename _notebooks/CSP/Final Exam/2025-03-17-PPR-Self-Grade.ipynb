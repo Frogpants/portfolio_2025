{
 "cells": [
  {
   "cell_type": "markdown",
   "metadata": {},
   "source": [
    "---\n",
    "toc: true\n",
    "comments: true\n",
    "layout: post\n",
    "title: PPR and Self Grade\n",
    "author: Spencer Lyons\n",
    "nav: nav/final/blogs.html\n",
    "categories: [Python]\n",
    "---"
   ]
  },
  {
   "cell_type": "markdown",
   "metadata": {},
   "source": [
    "# MCQ Review and PPR Self Grade\n",
    "\n",
    "## MC Review and Reflection\n",
    "My score improved from **46 to 52** (68% to 77%), showing growth in my understanding of key concepts. While I made some mistakes, like misreading a question or guessing on compression techniques, these errors helped me recognize areas I need to focus on.\n",
    "\n",
    "I was graded by Justin and he overall approved of my improvements but he agreed that my presentation could've been a little slower. Overall, he did score me with a 0.9/1 showing that I met the necessary requirements and have improved.\n",
    "\n",
    "### Areas for Improvement\n",
    "1. Learn more about audio and video compression.  \n",
    "2. Read questions and answers more carefully.  \n",
    "3. Deepen my understanding of internet security and encryption.  \n",
    "\n",
    "---\n",
    "\n",
    "## User Profile Feature\n",
    "I developed the **User Profile Management System** for our social media platform. This feature allows users to view, update, and delete their profiles, including profile pictures, usernames, and theme preferences. Creating this system helped me improve my understanding of API integration, database management, and user data handling.\n",
    "\n",
    "---\n",
    "\n",
    "## Reflection on Growth and Learning\n",
    "Working on this project has helped me grow in several ways:\n",
    "\n",
    "- **Technical Growth:** I gained experience with API requests, CRUD operations, and database queries.  \n",
    "- **Problem-Solving Skills:** I improved at identifying and fixing issues efficiently.  \n",
    "- **Attention to Detail:** Learning from small mistakes taught me to approach tasks more carefully and thoughtfully.  \n",
    "\n",
    "This experience has made me a stronger programmer, and I’m confident I can apply these skills to future projects.\n",
    "\n",
    "---\n",
    "\n",
    "## Self-Grade\n",
    "I would give myself a **0.9/1.00**. While I successfully implemented key features and improved my skills, I know there’s still room for improvement in refining my knowledge and being more detail-oriented."
   ]
  }
 ],
 "metadata": {
  "language_info": {
   "name": "python"
  }
 },
 "nbformat": 4,
 "nbformat_minor": 2
}
