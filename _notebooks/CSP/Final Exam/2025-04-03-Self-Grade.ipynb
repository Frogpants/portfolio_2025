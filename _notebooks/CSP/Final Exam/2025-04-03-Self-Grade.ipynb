{
 "cells": [
  {
   "cell_type": "markdown",
   "metadata": {},
   "source": [
    "---\n",
    "toc: true\n",
    "comments: true\n",
    "layout: post\n",
    "title: Self Grade\n",
    "author: Spencer Lyons\n",
    "categories: [Python]\n",
    "---"
   ]
  },
  {
   "cell_type": "markdown",
   "metadata": {},
   "source": [
    "# Self Graded Score\n",
    "\n",
    "| **Concept**                                      | **Grade** | **Notes**                                                                 |\n",
    "|-------------------------------------------------|----------|---------------------------------------------------------------------------|\n",
    "| **Dosce bullets**                               | 5/5      | Included Overall Focuses and Improvements on Full Stack and More        |\n",
    "| **Fullstack Demo, CPT, N@TM future additions**  | 1/2      | Required More Depth and Detail of Work and Process                      |\n",
    "| **Feature + FRQ**                               | 1/1      | Focused Code and Feature Goals and Results                              |\n",
    "| **MCQ reflection**                              | 1/1      | Showed Proper Improvement in Score Review and Improved Overall Scoring  |\n",
    "| **Presentation 10th point**                     | 1/1      | Discussed Collaboration in and out of Teams, Agenda, and Self-Graded Properly, and interested in CSA |\n",
    "| **Total**                                       | 9/10     |                                                                           |\n"
   ]
  }
 ],
 "metadata": {
  "language_info": {
   "name": "python"
  }
 },
 "nbformat": 4,
 "nbformat_minor": 2
}
