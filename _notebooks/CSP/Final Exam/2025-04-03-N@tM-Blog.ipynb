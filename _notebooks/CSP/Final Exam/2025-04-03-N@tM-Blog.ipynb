{
 "cells": [
  {
   "cell_type": "markdown",
   "metadata": {},
   "source": [
    "---\n",
    "toc: true\n",
    "comments: true\n",
    "layout: post\n",
    "title: N@tM Reflection\n",
    "author: Spencer Lyons\n",
    "nav: nav/final/blogs.html\n",
    "categories: [Python]\n",
    "---"
   ]
  },
  {
   "cell_type": "markdown",
   "metadata": {},
   "source": [
    "# N@tM Reflection\n",
    "\n",
    "## Reviews\n",
    "<img src=\"{{ site.baseurl }}/images/Final Exam/Reviews.png\" alt=\"Overall_Score\"/>\n",
    "\n",
    "### What I Plan to Improve\n",
    "1. More accesibility to different items\n",
    "2. Keep clean and simple UIs for easy navigation\n",
    "3. More keybind accessbility for different users\n",
    "\n",
    "### 3 Teams I Liked\n",
    "1. Car Team: Amazing GUI and cool interactions of website that matched with the theme such as a car key to login.\n",
    "2. Restaurant Team: I like the use of multiple colors and how they had the ability to access multiple features easily such as the post a review being easily accessed on the main page.\n",
    "3. Binary Team: I liked how they had game inside of their website and it was a lot of fun to lose while playing because I had no idea how to convert using my brain.\n",
    "\n",
    "## Teamwork\n",
    "I worked a lot with my team both with computer issues and programming issues. We easily solved them within class and sometimes outside of class afterschool.\n",
    "\n",
    "My group generally had meetings before and after reviews to discuss our plans for our website and features.\n",
    "\n",
    "Outside of my team I sometimes asked Xavier for help because he understands backend a lot more than I did. This allowed me to also better understand how the Full Stack works along with backend."
   ]
  }
 ],
 "metadata": {
  "language_info": {
   "name": "python"
  }
 },
 "nbformat": 4,
 "nbformat_minor": 2
}
