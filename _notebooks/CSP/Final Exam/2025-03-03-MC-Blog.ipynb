{
 "cells": [
  {
   "cell_type": "markdown",
   "metadata": {},
   "source": [
    "---\n",
    "toc: true\n",
    "comments: true\n",
    "layout: post\n",
    "title: MCQ Reflection\n",
    "author: Spencer Lyons\n",
    "nav: nav/final/blogs.html\n",
    "categories: [Python]\n",
    "---"
   ]
  },
  {
   "cell_type": "markdown",
   "metadata": {},
   "source": [
    "# MC Review and Reflection\n",
    "\n",
    "## Score\n",
    "<img src=\"{{ site.baseurl }}/images/Final Exam/2025-04-03-Overall-Score.png\" alt=\"Overall_Score\"/>\n",
    "\n",
    "## Big Idea Percentage\n",
    "<img src=\"{{ site.baseurl }}/images/Final Exam/2025-04-03-Percentage.png\" alt=\"Percentage\"/>\n",
    "\n",
    "## MCQ 1 Comparison to MCQ 2\n",
    "| Big Idea                           | Previous Score | New Score | Improvement |\n",
    "|------------------------------------|---------------|-----------|-------------|\n",
    "| CRD: Creative Development         | 80%          | 89%       | +9%         |\n",
    "| CSN: Computing Systems & Networks | 75%          | 83%       | +8%         |\n",
    "| IOC: Impact of Computing          | 45%          | 78%       | +33%        |\n",
    "| DAT: Data                         | 81%          | 77%       | -4%         |\n",
    "| AAP: Algorithms and Programming   | 76%          | 76%       | No Change   |\n",
    "\n",
    "Over all my score improved from 46 to 52 (68% to 77%).\n",
    "\n",
    "## Failed Questions\n",
    "<img src=\"{{ site.baseurl }}/images/Final Exam/Museum-Tickets.png\" alt=\"tickets\"/>\n",
    "Simple mistake of not paying close enough attention to answer\n",
    "\n",
    "<img src=\"{{ site.baseurl }}/images/Final Exam/Lossless-Compression.png\" alt=\"compression\"/>\n",
    "I didn't know how compression works with audio files so I made an educated guess\n",
    "\n",
    "<img src=\"{{ site.baseurl }}/images/Final Exam/Certificate-Authority.png\" alt=\"authority\"/>\n",
    "I wasn't sure exactly how certificate authorities worked\n",
    "\n",
    "## Things I Can Improve\n",
    "1. Learn about how computers use different ways to compress audio and video files.\n",
    "2. Read both questions and answers more closely.\n",
    "3. Understand more about how encrypted data is sent through the internet.\n"
   ]
  }
 ],
 "metadata": {
  "language_info": {
   "name": "python"
  }
 },
 "nbformat": 4,
 "nbformat_minor": 2
}
